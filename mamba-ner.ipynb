{
 "cells": [
  {
   "cell_type": "markdown",
   "metadata": {},
   "source": [
    "## Fine-tuning mamba for Named Entry Recognition (NER)"
   ]
  },
  {
   "cell_type": "code",
   "execution_count": 3,
   "metadata": {},
   "outputs": [
    {
     "name": "stdout",
     "output_type": "stream",
     "text": [
      "True\n"
     ]
    }
   ],
   "source": [
    "import torch\n",
    "print(torch.cuda.is_available())"
   ]
  },
  {
   "cell_type": "code",
   "execution_count": 4,
   "metadata": {},
   "outputs": [
    {
     "name": "stderr",
     "output_type": "stream",
     "text": [
      "/root/anaconda3/envs/mamba/lib/python3.12/site-packages/tqdm-4.66.5-py3.12.egg/tqdm/auto.py:21: TqdmWarning: IProgress not found. Please update jupyter and ipywidgets. See https://ipywidgets.readthedocs.io/en/stable/user_install.html\n",
      "  from .autonotebook import tqdm as notebook_tqdm\n"
     ]
    }
   ],
   "source": [
    "from datasets import load_dataset\n",
    "dataset = load_dataset(\"wikiann\", \"en\")\n",
    "\n",
    "model_ckpt = \"state-spaces/mamba-790m-hf\""
   ]
  },
  {
   "cell_type": "code",
   "execution_count": 85,
   "metadata": {},
   "outputs": [
    {
     "data": {
      "text/plain": [
       "{'tokens': ['St.',\n",
       "  'Mary',\n",
       "  \"'s\",\n",
       "  'Catholic',\n",
       "  'Church',\n",
       "  '(',\n",
       "  'Sandusky',\n",
       "  ',',\n",
       "  'Ohio',\n",
       "  ')'],\n",
       " 'ner_tags': [3, 4, 4, 4, 4, 4, 4, 4, 4, 4],\n",
       " 'langs': ['en', 'en', 'en', 'en', 'en', 'en', 'en', 'en', 'en', 'en'],\n",
       " 'spans': [\"ORG: St. Mary 's Catholic Church ( Sandusky , Ohio )\"]}"
      ]
     },
     "execution_count": 85,
     "metadata": {},
     "output_type": "execute_result"
    }
   ],
   "source": [
    "dataset['train'][5]"
   ]
  },
  {
   "cell_type": "code",
   "execution_count": 5,
   "metadata": {},
   "outputs": [],
   "source": [
    "import torch.nn as nn\n",
    "from transformers import MambaConfig\n",
    "from transformers.modeling_outputs import TokenClassifierOutput\n",
    "from transformers.models.mamba.modeling_mamba import MambaModel, MambaPreTrainedModel\n",
    "\n",
    "\n",
    "\n",
    "class MambaForTokenClassification(MambaPreTrainedModel):\n",
    "    config_class = MambaConfig\n",
    "    model_ckpt = \"state-spaces/mamba-790m-hf\"\n",
    "    def __init__(self, config):\n",
    "        super().__init__(config)\n",
    "        self.num_labels = config.num_labels\n",
    "        self.mamba = MambaModel.from_pretrained(model_ckpt, config=config)\n",
    "        self.dropout = nn.Dropout(p=0.2)\n",
    "        self.classifier = nn.Linear(config.hidden_size, config.num_labels)\n",
    "        self.init_weights()\n",
    "\n",
    "    def forward(self, input_ids=None, attention_mask=None, token_type_ids=None, labels=None, **kwargs):\n",
    "        outputs = self.mamba(input_ids, attention_mask=attention_mask, **kwargs) # hidden state(latent expression)는 [0]으로 접근 가능\n",
    "        sequence_output = self.dropout(outputs['last_hidden_state'])\n",
    "        logits = self.classifier(sequence_output)\n",
    "        loss = None\n",
    "        if labels is not None:\n",
    "            loss_fct = nn.CrossEntropyLoss()\n",
    "            loss = loss_fct(logits.view(-1, self.num_labels), labels.view(-1))\n",
    "        return TokenClassifierOutput(loss=loss, logits=logits,\n",
    "                                     hidden_states=outputs.last_hidden_state)     # named tuple로 결과를 참조할 수 있도록"
   ]
  },
  {
   "cell_type": "code",
   "execution_count": 6,
   "metadata": {},
   "outputs": [
    {
     "name": "stderr",
     "output_type": "stream",
     "text": [
      "Some weights of MambaForTokenClassification were not initialized from the model checkpoint at state-spaces/mamba-790m-hf and are newly initialized: ['backbone.classifier.bias', 'backbone.classifier.weight', 'backbone.mamba.embeddings.weight', 'backbone.mamba.layers.0.mixer.A_log', 'backbone.mamba.layers.0.mixer.D', 'backbone.mamba.layers.0.mixer.conv1d.bias', 'backbone.mamba.layers.0.mixer.conv1d.weight', 'backbone.mamba.layers.0.mixer.dt_proj.bias', 'backbone.mamba.layers.0.mixer.dt_proj.weight', 'backbone.mamba.layers.0.mixer.in_proj.weight', 'backbone.mamba.layers.0.mixer.out_proj.weight', 'backbone.mamba.layers.0.mixer.x_proj.weight', 'backbone.mamba.layers.0.norm.weight', 'backbone.mamba.layers.1.mixer.A_log', 'backbone.mamba.layers.1.mixer.D', 'backbone.mamba.layers.1.mixer.conv1d.bias', 'backbone.mamba.layers.1.mixer.conv1d.weight', 'backbone.mamba.layers.1.mixer.dt_proj.bias', 'backbone.mamba.layers.1.mixer.dt_proj.weight', 'backbone.mamba.layers.1.mixer.in_proj.weight', 'backbone.mamba.layers.1.mixer.out_proj.weight', 'backbone.mamba.layers.1.mixer.x_proj.weight', 'backbone.mamba.layers.1.norm.weight', 'backbone.mamba.layers.10.mixer.A_log', 'backbone.mamba.layers.10.mixer.D', 'backbone.mamba.layers.10.mixer.conv1d.bias', 'backbone.mamba.layers.10.mixer.conv1d.weight', 'backbone.mamba.layers.10.mixer.dt_proj.bias', 'backbone.mamba.layers.10.mixer.dt_proj.weight', 'backbone.mamba.layers.10.mixer.in_proj.weight', 'backbone.mamba.layers.10.mixer.out_proj.weight', 'backbone.mamba.layers.10.mixer.x_proj.weight', 'backbone.mamba.layers.10.norm.weight', 'backbone.mamba.layers.11.mixer.A_log', 'backbone.mamba.layers.11.mixer.D', 'backbone.mamba.layers.11.mixer.conv1d.bias', 'backbone.mamba.layers.11.mixer.conv1d.weight', 'backbone.mamba.layers.11.mixer.dt_proj.bias', 'backbone.mamba.layers.11.mixer.dt_proj.weight', 'backbone.mamba.layers.11.mixer.in_proj.weight', 'backbone.mamba.layers.11.mixer.out_proj.weight', 'backbone.mamba.layers.11.mixer.x_proj.weight', 'backbone.mamba.layers.11.norm.weight', 'backbone.mamba.layers.12.mixer.A_log', 'backbone.mamba.layers.12.mixer.D', 'backbone.mamba.layers.12.mixer.conv1d.bias', 'backbone.mamba.layers.12.mixer.conv1d.weight', 'backbone.mamba.layers.12.mixer.dt_proj.bias', 'backbone.mamba.layers.12.mixer.dt_proj.weight', 'backbone.mamba.layers.12.mixer.in_proj.weight', 'backbone.mamba.layers.12.mixer.out_proj.weight', 'backbone.mamba.layers.12.mixer.x_proj.weight', 'backbone.mamba.layers.12.norm.weight', 'backbone.mamba.layers.13.mixer.A_log', 'backbone.mamba.layers.13.mixer.D', 'backbone.mamba.layers.13.mixer.conv1d.bias', 'backbone.mamba.layers.13.mixer.conv1d.weight', 'backbone.mamba.layers.13.mixer.dt_proj.bias', 'backbone.mamba.layers.13.mixer.dt_proj.weight', 'backbone.mamba.layers.13.mixer.in_proj.weight', 'backbone.mamba.layers.13.mixer.out_proj.weight', 'backbone.mamba.layers.13.mixer.x_proj.weight', 'backbone.mamba.layers.13.norm.weight', 'backbone.mamba.layers.14.mixer.A_log', 'backbone.mamba.layers.14.mixer.D', 'backbone.mamba.layers.14.mixer.conv1d.bias', 'backbone.mamba.layers.14.mixer.conv1d.weight', 'backbone.mamba.layers.14.mixer.dt_proj.bias', 'backbone.mamba.layers.14.mixer.dt_proj.weight', 'backbone.mamba.layers.14.mixer.in_proj.weight', 'backbone.mamba.layers.14.mixer.out_proj.weight', 'backbone.mamba.layers.14.mixer.x_proj.weight', 'backbone.mamba.layers.14.norm.weight', 'backbone.mamba.layers.15.mixer.A_log', 'backbone.mamba.layers.15.mixer.D', 'backbone.mamba.layers.15.mixer.conv1d.bias', 'backbone.mamba.layers.15.mixer.conv1d.weight', 'backbone.mamba.layers.15.mixer.dt_proj.bias', 'backbone.mamba.layers.15.mixer.dt_proj.weight', 'backbone.mamba.layers.15.mixer.in_proj.weight', 'backbone.mamba.layers.15.mixer.out_proj.weight', 'backbone.mamba.layers.15.mixer.x_proj.weight', 'backbone.mamba.layers.15.norm.weight', 'backbone.mamba.layers.16.mixer.A_log', 'backbone.mamba.layers.16.mixer.D', 'backbone.mamba.layers.16.mixer.conv1d.bias', 'backbone.mamba.layers.16.mixer.conv1d.weight', 'backbone.mamba.layers.16.mixer.dt_proj.bias', 'backbone.mamba.layers.16.mixer.dt_proj.weight', 'backbone.mamba.layers.16.mixer.in_proj.weight', 'backbone.mamba.layers.16.mixer.out_proj.weight', 'backbone.mamba.layers.16.mixer.x_proj.weight', 'backbone.mamba.layers.16.norm.weight', 'backbone.mamba.layers.17.mixer.A_log', 'backbone.mamba.layers.17.mixer.D', 'backbone.mamba.layers.17.mixer.conv1d.bias', 'backbone.mamba.layers.17.mixer.conv1d.weight', 'backbone.mamba.layers.17.mixer.dt_proj.bias', 'backbone.mamba.layers.17.mixer.dt_proj.weight', 'backbone.mamba.layers.17.mixer.in_proj.weight', 'backbone.mamba.layers.17.mixer.out_proj.weight', 'backbone.mamba.layers.17.mixer.x_proj.weight', 'backbone.mamba.layers.17.norm.weight', 'backbone.mamba.layers.18.mixer.A_log', 'backbone.mamba.layers.18.mixer.D', 'backbone.mamba.layers.18.mixer.conv1d.bias', 'backbone.mamba.layers.18.mixer.conv1d.weight', 'backbone.mamba.layers.18.mixer.dt_proj.bias', 'backbone.mamba.layers.18.mixer.dt_proj.weight', 'backbone.mamba.layers.18.mixer.in_proj.weight', 'backbone.mamba.layers.18.mixer.out_proj.weight', 'backbone.mamba.layers.18.mixer.x_proj.weight', 'backbone.mamba.layers.18.norm.weight', 'backbone.mamba.layers.19.mixer.A_log', 'backbone.mamba.layers.19.mixer.D', 'backbone.mamba.layers.19.mixer.conv1d.bias', 'backbone.mamba.layers.19.mixer.conv1d.weight', 'backbone.mamba.layers.19.mixer.dt_proj.bias', 'backbone.mamba.layers.19.mixer.dt_proj.weight', 'backbone.mamba.layers.19.mixer.in_proj.weight', 'backbone.mamba.layers.19.mixer.out_proj.weight', 'backbone.mamba.layers.19.mixer.x_proj.weight', 'backbone.mamba.layers.19.norm.weight', 'backbone.mamba.layers.2.mixer.A_log', 'backbone.mamba.layers.2.mixer.D', 'backbone.mamba.layers.2.mixer.conv1d.bias', 'backbone.mamba.layers.2.mixer.conv1d.weight', 'backbone.mamba.layers.2.mixer.dt_proj.bias', 'backbone.mamba.layers.2.mixer.dt_proj.weight', 'backbone.mamba.layers.2.mixer.in_proj.weight', 'backbone.mamba.layers.2.mixer.out_proj.weight', 'backbone.mamba.layers.2.mixer.x_proj.weight', 'backbone.mamba.layers.2.norm.weight', 'backbone.mamba.layers.20.mixer.A_log', 'backbone.mamba.layers.20.mixer.D', 'backbone.mamba.layers.20.mixer.conv1d.bias', 'backbone.mamba.layers.20.mixer.conv1d.weight', 'backbone.mamba.layers.20.mixer.dt_proj.bias', 'backbone.mamba.layers.20.mixer.dt_proj.weight', 'backbone.mamba.layers.20.mixer.in_proj.weight', 'backbone.mamba.layers.20.mixer.out_proj.weight', 'backbone.mamba.layers.20.mixer.x_proj.weight', 'backbone.mamba.layers.20.norm.weight', 'backbone.mamba.layers.21.mixer.A_log', 'backbone.mamba.layers.21.mixer.D', 'backbone.mamba.layers.21.mixer.conv1d.bias', 'backbone.mamba.layers.21.mixer.conv1d.weight', 'backbone.mamba.layers.21.mixer.dt_proj.bias', 'backbone.mamba.layers.21.mixer.dt_proj.weight', 'backbone.mamba.layers.21.mixer.in_proj.weight', 'backbone.mamba.layers.21.mixer.out_proj.weight', 'backbone.mamba.layers.21.mixer.x_proj.weight', 'backbone.mamba.layers.21.norm.weight', 'backbone.mamba.layers.22.mixer.A_log', 'backbone.mamba.layers.22.mixer.D', 'backbone.mamba.layers.22.mixer.conv1d.bias', 'backbone.mamba.layers.22.mixer.conv1d.weight', 'backbone.mamba.layers.22.mixer.dt_proj.bias', 'backbone.mamba.layers.22.mixer.dt_proj.weight', 'backbone.mamba.layers.22.mixer.in_proj.weight', 'backbone.mamba.layers.22.mixer.out_proj.weight', 'backbone.mamba.layers.22.mixer.x_proj.weight', 'backbone.mamba.layers.22.norm.weight', 'backbone.mamba.layers.23.mixer.A_log', 'backbone.mamba.layers.23.mixer.D', 'backbone.mamba.layers.23.mixer.conv1d.bias', 'backbone.mamba.layers.23.mixer.conv1d.weight', 'backbone.mamba.layers.23.mixer.dt_proj.bias', 'backbone.mamba.layers.23.mixer.dt_proj.weight', 'backbone.mamba.layers.23.mixer.in_proj.weight', 'backbone.mamba.layers.23.mixer.out_proj.weight', 'backbone.mamba.layers.23.mixer.x_proj.weight', 'backbone.mamba.layers.23.norm.weight', 'backbone.mamba.layers.24.mixer.A_log', 'backbone.mamba.layers.24.mixer.D', 'backbone.mamba.layers.24.mixer.conv1d.bias', 'backbone.mamba.layers.24.mixer.conv1d.weight', 'backbone.mamba.layers.24.mixer.dt_proj.bias', 'backbone.mamba.layers.24.mixer.dt_proj.weight', 'backbone.mamba.layers.24.mixer.in_proj.weight', 'backbone.mamba.layers.24.mixer.out_proj.weight', 'backbone.mamba.layers.24.mixer.x_proj.weight', 'backbone.mamba.layers.24.norm.weight', 'backbone.mamba.layers.25.mixer.A_log', 'backbone.mamba.layers.25.mixer.D', 'backbone.mamba.layers.25.mixer.conv1d.bias', 'backbone.mamba.layers.25.mixer.conv1d.weight', 'backbone.mamba.layers.25.mixer.dt_proj.bias', 'backbone.mamba.layers.25.mixer.dt_proj.weight', 'backbone.mamba.layers.25.mixer.in_proj.weight', 'backbone.mamba.layers.25.mixer.out_proj.weight', 'backbone.mamba.layers.25.mixer.x_proj.weight', 'backbone.mamba.layers.25.norm.weight', 'backbone.mamba.layers.26.mixer.A_log', 'backbone.mamba.layers.26.mixer.D', 'backbone.mamba.layers.26.mixer.conv1d.bias', 'backbone.mamba.layers.26.mixer.conv1d.weight', 'backbone.mamba.layers.26.mixer.dt_proj.bias', 'backbone.mamba.layers.26.mixer.dt_proj.weight', 'backbone.mamba.layers.26.mixer.in_proj.weight', 'backbone.mamba.layers.26.mixer.out_proj.weight', 'backbone.mamba.layers.26.mixer.x_proj.weight', 'backbone.mamba.layers.26.norm.weight', 'backbone.mamba.layers.27.mixer.A_log', 'backbone.mamba.layers.27.mixer.D', 'backbone.mamba.layers.27.mixer.conv1d.bias', 'backbone.mamba.layers.27.mixer.conv1d.weight', 'backbone.mamba.layers.27.mixer.dt_proj.bias', 'backbone.mamba.layers.27.mixer.dt_proj.weight', 'backbone.mamba.layers.27.mixer.in_proj.weight', 'backbone.mamba.layers.27.mixer.out_proj.weight', 'backbone.mamba.layers.27.mixer.x_proj.weight', 'backbone.mamba.layers.27.norm.weight', 'backbone.mamba.layers.28.mixer.A_log', 'backbone.mamba.layers.28.mixer.D', 'backbone.mamba.layers.28.mixer.conv1d.bias', 'backbone.mamba.layers.28.mixer.conv1d.weight', 'backbone.mamba.layers.28.mixer.dt_proj.bias', 'backbone.mamba.layers.28.mixer.dt_proj.weight', 'backbone.mamba.layers.28.mixer.in_proj.weight', 'backbone.mamba.layers.28.mixer.out_proj.weight', 'backbone.mamba.layers.28.mixer.x_proj.weight', 'backbone.mamba.layers.28.norm.weight', 'backbone.mamba.layers.29.mixer.A_log', 'backbone.mamba.layers.29.mixer.D', 'backbone.mamba.layers.29.mixer.conv1d.bias', 'backbone.mamba.layers.29.mixer.conv1d.weight', 'backbone.mamba.layers.29.mixer.dt_proj.bias', 'backbone.mamba.layers.29.mixer.dt_proj.weight', 'backbone.mamba.layers.29.mixer.in_proj.weight', 'backbone.mamba.layers.29.mixer.out_proj.weight', 'backbone.mamba.layers.29.mixer.x_proj.weight', 'backbone.mamba.layers.29.norm.weight', 'backbone.mamba.layers.3.mixer.A_log', 'backbone.mamba.layers.3.mixer.D', 'backbone.mamba.layers.3.mixer.conv1d.bias', 'backbone.mamba.layers.3.mixer.conv1d.weight', 'backbone.mamba.layers.3.mixer.dt_proj.bias', 'backbone.mamba.layers.3.mixer.dt_proj.weight', 'backbone.mamba.layers.3.mixer.in_proj.weight', 'backbone.mamba.layers.3.mixer.out_proj.weight', 'backbone.mamba.layers.3.mixer.x_proj.weight', 'backbone.mamba.layers.3.norm.weight', 'backbone.mamba.layers.30.mixer.A_log', 'backbone.mamba.layers.30.mixer.D', 'backbone.mamba.layers.30.mixer.conv1d.bias', 'backbone.mamba.layers.30.mixer.conv1d.weight', 'backbone.mamba.layers.30.mixer.dt_proj.bias', 'backbone.mamba.layers.30.mixer.dt_proj.weight', 'backbone.mamba.layers.30.mixer.in_proj.weight', 'backbone.mamba.layers.30.mixer.out_proj.weight', 'backbone.mamba.layers.30.mixer.x_proj.weight', 'backbone.mamba.layers.30.norm.weight', 'backbone.mamba.layers.31.mixer.A_log', 'backbone.mamba.layers.31.mixer.D', 'backbone.mamba.layers.31.mixer.conv1d.bias', 'backbone.mamba.layers.31.mixer.conv1d.weight', 'backbone.mamba.layers.31.mixer.dt_proj.bias', 'backbone.mamba.layers.31.mixer.dt_proj.weight', 'backbone.mamba.layers.31.mixer.in_proj.weight', 'backbone.mamba.layers.31.mixer.out_proj.weight', 'backbone.mamba.layers.31.mixer.x_proj.weight', 'backbone.mamba.layers.31.norm.weight', 'backbone.mamba.layers.32.mixer.A_log', 'backbone.mamba.layers.32.mixer.D', 'backbone.mamba.layers.32.mixer.conv1d.bias', 'backbone.mamba.layers.32.mixer.conv1d.weight', 'backbone.mamba.layers.32.mixer.dt_proj.bias', 'backbone.mamba.layers.32.mixer.dt_proj.weight', 'backbone.mamba.layers.32.mixer.in_proj.weight', 'backbone.mamba.layers.32.mixer.out_proj.weight', 'backbone.mamba.layers.32.mixer.x_proj.weight', 'backbone.mamba.layers.32.norm.weight', 'backbone.mamba.layers.33.mixer.A_log', 'backbone.mamba.layers.33.mixer.D', 'backbone.mamba.layers.33.mixer.conv1d.bias', 'backbone.mamba.layers.33.mixer.conv1d.weight', 'backbone.mamba.layers.33.mixer.dt_proj.bias', 'backbone.mamba.layers.33.mixer.dt_proj.weight', 'backbone.mamba.layers.33.mixer.in_proj.weight', 'backbone.mamba.layers.33.mixer.out_proj.weight', 'backbone.mamba.layers.33.mixer.x_proj.weight', 'backbone.mamba.layers.33.norm.weight', 'backbone.mamba.layers.34.mixer.A_log', 'backbone.mamba.layers.34.mixer.D', 'backbone.mamba.layers.34.mixer.conv1d.bias', 'backbone.mamba.layers.34.mixer.conv1d.weight', 'backbone.mamba.layers.34.mixer.dt_proj.bias', 'backbone.mamba.layers.34.mixer.dt_proj.weight', 'backbone.mamba.layers.34.mixer.in_proj.weight', 'backbone.mamba.layers.34.mixer.out_proj.weight', 'backbone.mamba.layers.34.mixer.x_proj.weight', 'backbone.mamba.layers.34.norm.weight', 'backbone.mamba.layers.35.mixer.A_log', 'backbone.mamba.layers.35.mixer.D', 'backbone.mamba.layers.35.mixer.conv1d.bias', 'backbone.mamba.layers.35.mixer.conv1d.weight', 'backbone.mamba.layers.35.mixer.dt_proj.bias', 'backbone.mamba.layers.35.mixer.dt_proj.weight', 'backbone.mamba.layers.35.mixer.in_proj.weight', 'backbone.mamba.layers.35.mixer.out_proj.weight', 'backbone.mamba.layers.35.mixer.x_proj.weight', 'backbone.mamba.layers.35.norm.weight', 'backbone.mamba.layers.36.mixer.A_log', 'backbone.mamba.layers.36.mixer.D', 'backbone.mamba.layers.36.mixer.conv1d.bias', 'backbone.mamba.layers.36.mixer.conv1d.weight', 'backbone.mamba.layers.36.mixer.dt_proj.bias', 'backbone.mamba.layers.36.mixer.dt_proj.weight', 'backbone.mamba.layers.36.mixer.in_proj.weight', 'backbone.mamba.layers.36.mixer.out_proj.weight', 'backbone.mamba.layers.36.mixer.x_proj.weight', 'backbone.mamba.layers.36.norm.weight', 'backbone.mamba.layers.37.mixer.A_log', 'backbone.mamba.layers.37.mixer.D', 'backbone.mamba.layers.37.mixer.conv1d.bias', 'backbone.mamba.layers.37.mixer.conv1d.weight', 'backbone.mamba.layers.37.mixer.dt_proj.bias', 'backbone.mamba.layers.37.mixer.dt_proj.weight', 'backbone.mamba.layers.37.mixer.in_proj.weight', 'backbone.mamba.layers.37.mixer.out_proj.weight', 'backbone.mamba.layers.37.mixer.x_proj.weight', 'backbone.mamba.layers.37.norm.weight', 'backbone.mamba.layers.38.mixer.A_log', 'backbone.mamba.layers.38.mixer.D', 'backbone.mamba.layers.38.mixer.conv1d.bias', 'backbone.mamba.layers.38.mixer.conv1d.weight', 'backbone.mamba.layers.38.mixer.dt_proj.bias', 'backbone.mamba.layers.38.mixer.dt_proj.weight', 'backbone.mamba.layers.38.mixer.in_proj.weight', 'backbone.mamba.layers.38.mixer.out_proj.weight', 'backbone.mamba.layers.38.mixer.x_proj.weight', 'backbone.mamba.layers.38.norm.weight', 'backbone.mamba.layers.39.mixer.A_log', 'backbone.mamba.layers.39.mixer.D', 'backbone.mamba.layers.39.mixer.conv1d.bias', 'backbone.mamba.layers.39.mixer.conv1d.weight', 'backbone.mamba.layers.39.mixer.dt_proj.bias', 'backbone.mamba.layers.39.mixer.dt_proj.weight', 'backbone.mamba.layers.39.mixer.in_proj.weight', 'backbone.mamba.layers.39.mixer.out_proj.weight', 'backbone.mamba.layers.39.mixer.x_proj.weight', 'backbone.mamba.layers.39.norm.weight', 'backbone.mamba.layers.4.mixer.A_log', 'backbone.mamba.layers.4.mixer.D', 'backbone.mamba.layers.4.mixer.conv1d.bias', 'backbone.mamba.layers.4.mixer.conv1d.weight', 'backbone.mamba.layers.4.mixer.dt_proj.bias', 'backbone.mamba.layers.4.mixer.dt_proj.weight', 'backbone.mamba.layers.4.mixer.in_proj.weight', 'backbone.mamba.layers.4.mixer.out_proj.weight', 'backbone.mamba.layers.4.mixer.x_proj.weight', 'backbone.mamba.layers.4.norm.weight', 'backbone.mamba.layers.40.mixer.A_log', 'backbone.mamba.layers.40.mixer.D', 'backbone.mamba.layers.40.mixer.conv1d.bias', 'backbone.mamba.layers.40.mixer.conv1d.weight', 'backbone.mamba.layers.40.mixer.dt_proj.bias', 'backbone.mamba.layers.40.mixer.dt_proj.weight', 'backbone.mamba.layers.40.mixer.in_proj.weight', 'backbone.mamba.layers.40.mixer.out_proj.weight', 'backbone.mamba.layers.40.mixer.x_proj.weight', 'backbone.mamba.layers.40.norm.weight', 'backbone.mamba.layers.41.mixer.A_log', 'backbone.mamba.layers.41.mixer.D', 'backbone.mamba.layers.41.mixer.conv1d.bias', 'backbone.mamba.layers.41.mixer.conv1d.weight', 'backbone.mamba.layers.41.mixer.dt_proj.bias', 'backbone.mamba.layers.41.mixer.dt_proj.weight', 'backbone.mamba.layers.41.mixer.in_proj.weight', 'backbone.mamba.layers.41.mixer.out_proj.weight', 'backbone.mamba.layers.41.mixer.x_proj.weight', 'backbone.mamba.layers.41.norm.weight', 'backbone.mamba.layers.42.mixer.A_log', 'backbone.mamba.layers.42.mixer.D', 'backbone.mamba.layers.42.mixer.conv1d.bias', 'backbone.mamba.layers.42.mixer.conv1d.weight', 'backbone.mamba.layers.42.mixer.dt_proj.bias', 'backbone.mamba.layers.42.mixer.dt_proj.weight', 'backbone.mamba.layers.42.mixer.in_proj.weight', 'backbone.mamba.layers.42.mixer.out_proj.weight', 'backbone.mamba.layers.42.mixer.x_proj.weight', 'backbone.mamba.layers.42.norm.weight', 'backbone.mamba.layers.43.mixer.A_log', 'backbone.mamba.layers.43.mixer.D', 'backbone.mamba.layers.43.mixer.conv1d.bias', 'backbone.mamba.layers.43.mixer.conv1d.weight', 'backbone.mamba.layers.43.mixer.dt_proj.bias', 'backbone.mamba.layers.43.mixer.dt_proj.weight', 'backbone.mamba.layers.43.mixer.in_proj.weight', 'backbone.mamba.layers.43.mixer.out_proj.weight', 'backbone.mamba.layers.43.mixer.x_proj.weight', 'backbone.mamba.layers.43.norm.weight', 'backbone.mamba.layers.44.mixer.A_log', 'backbone.mamba.layers.44.mixer.D', 'backbone.mamba.layers.44.mixer.conv1d.bias', 'backbone.mamba.layers.44.mixer.conv1d.weight', 'backbone.mamba.layers.44.mixer.dt_proj.bias', 'backbone.mamba.layers.44.mixer.dt_proj.weight', 'backbone.mamba.layers.44.mixer.in_proj.weight', 'backbone.mamba.layers.44.mixer.out_proj.weight', 'backbone.mamba.layers.44.mixer.x_proj.weight', 'backbone.mamba.layers.44.norm.weight', 'backbone.mamba.layers.45.mixer.A_log', 'backbone.mamba.layers.45.mixer.D', 'backbone.mamba.layers.45.mixer.conv1d.bias', 'backbone.mamba.layers.45.mixer.conv1d.weight', 'backbone.mamba.layers.45.mixer.dt_proj.bias', 'backbone.mamba.layers.45.mixer.dt_proj.weight', 'backbone.mamba.layers.45.mixer.in_proj.weight', 'backbone.mamba.layers.45.mixer.out_proj.weight', 'backbone.mamba.layers.45.mixer.x_proj.weight', 'backbone.mamba.layers.45.norm.weight', 'backbone.mamba.layers.46.mixer.A_log', 'backbone.mamba.layers.46.mixer.D', 'backbone.mamba.layers.46.mixer.conv1d.bias', 'backbone.mamba.layers.46.mixer.conv1d.weight', 'backbone.mamba.layers.46.mixer.dt_proj.bias', 'backbone.mamba.layers.46.mixer.dt_proj.weight', 'backbone.mamba.layers.46.mixer.in_proj.weight', 'backbone.mamba.layers.46.mixer.out_proj.weight', 'backbone.mamba.layers.46.mixer.x_proj.weight', 'backbone.mamba.layers.46.norm.weight', 'backbone.mamba.layers.47.mixer.A_log', 'backbone.mamba.layers.47.mixer.D', 'backbone.mamba.layers.47.mixer.conv1d.bias', 'backbone.mamba.layers.47.mixer.conv1d.weight', 'backbone.mamba.layers.47.mixer.dt_proj.bias', 'backbone.mamba.layers.47.mixer.dt_proj.weight', 'backbone.mamba.layers.47.mixer.in_proj.weight', 'backbone.mamba.layers.47.mixer.out_proj.weight', 'backbone.mamba.layers.47.mixer.x_proj.weight', 'backbone.mamba.layers.47.norm.weight', 'backbone.mamba.layers.5.mixer.A_log', 'backbone.mamba.layers.5.mixer.D', 'backbone.mamba.layers.5.mixer.conv1d.bias', 'backbone.mamba.layers.5.mixer.conv1d.weight', 'backbone.mamba.layers.5.mixer.dt_proj.bias', 'backbone.mamba.layers.5.mixer.dt_proj.weight', 'backbone.mamba.layers.5.mixer.in_proj.weight', 'backbone.mamba.layers.5.mixer.out_proj.weight', 'backbone.mamba.layers.5.mixer.x_proj.weight', 'backbone.mamba.layers.5.norm.weight', 'backbone.mamba.layers.6.mixer.A_log', 'backbone.mamba.layers.6.mixer.D', 'backbone.mamba.layers.6.mixer.conv1d.bias', 'backbone.mamba.layers.6.mixer.conv1d.weight', 'backbone.mamba.layers.6.mixer.dt_proj.bias', 'backbone.mamba.layers.6.mixer.dt_proj.weight', 'backbone.mamba.layers.6.mixer.in_proj.weight', 'backbone.mamba.layers.6.mixer.out_proj.weight', 'backbone.mamba.layers.6.mixer.x_proj.weight', 'backbone.mamba.layers.6.norm.weight', 'backbone.mamba.layers.7.mixer.A_log', 'backbone.mamba.layers.7.mixer.D', 'backbone.mamba.layers.7.mixer.conv1d.bias', 'backbone.mamba.layers.7.mixer.conv1d.weight', 'backbone.mamba.layers.7.mixer.dt_proj.bias', 'backbone.mamba.layers.7.mixer.dt_proj.weight', 'backbone.mamba.layers.7.mixer.in_proj.weight', 'backbone.mamba.layers.7.mixer.out_proj.weight', 'backbone.mamba.layers.7.mixer.x_proj.weight', 'backbone.mamba.layers.7.norm.weight', 'backbone.mamba.layers.8.mixer.A_log', 'backbone.mamba.layers.8.mixer.D', 'backbone.mamba.layers.8.mixer.conv1d.bias', 'backbone.mamba.layers.8.mixer.conv1d.weight', 'backbone.mamba.layers.8.mixer.dt_proj.bias', 'backbone.mamba.layers.8.mixer.dt_proj.weight', 'backbone.mamba.layers.8.mixer.in_proj.weight', 'backbone.mamba.layers.8.mixer.out_proj.weight', 'backbone.mamba.layers.8.mixer.x_proj.weight', 'backbone.mamba.layers.8.norm.weight', 'backbone.mamba.layers.9.mixer.A_log', 'backbone.mamba.layers.9.mixer.D', 'backbone.mamba.layers.9.mixer.conv1d.bias', 'backbone.mamba.layers.9.mixer.conv1d.weight', 'backbone.mamba.layers.9.mixer.dt_proj.bias', 'backbone.mamba.layers.9.mixer.dt_proj.weight', 'backbone.mamba.layers.9.mixer.in_proj.weight', 'backbone.mamba.layers.9.mixer.out_proj.weight', 'backbone.mamba.layers.9.mixer.x_proj.weight', 'backbone.mamba.layers.9.norm.weight', 'backbone.mamba.norm_f.weight']\n",
      "You should probably TRAIN this model on a down-stream task to be able to use it for predictions and inference.\n"
     ]
    },
    {
     "data": {
      "text/plain": [
       "TokenClassifierOutput(loss=None, logits=tensor([[[ 1.7583, -3.0715,  1.7374, -1.5439, -0.3953, -2.0430,  0.3488],\n",
       "         [ 0.2635,  0.7452, -0.5209,  1.2818, -1.1679, -2.6786,  0.9909],\n",
       "         [-1.3415,  4.1866, -2.5435,  2.3264, -0.6535,  1.6565, -1.6462],\n",
       "         [ 0.6321,  1.2605, -0.6461,  1.2034, -1.7680, -2.8147,  1.1305],\n",
       "         [ 1.1293, -0.1468,  1.0991, -0.7568, -0.4935, -2.5343,  1.5849],\n",
       "         [ 1.0961, -0.2060,  1.1100, -0.9937, -0.6874,  0.9059, -1.5948],\n",
       "         [-1.4779,  3.3847, -1.0077,  1.6401, -0.4016,  1.1385, -1.0482],\n",
       "         [ 2.1893, -1.6848,  2.2826, -1.4941, -0.8024, -2.6353,  0.1000],\n",
       "         [-0.9739,  2.7727, -0.7426,  1.2504,  0.0421,  1.8525, -1.7157]]],\n",
       "       device='cuda:0', grad_fn=<ViewBackward0>), hidden_states=tensor([[[ 2.6738,  0.8846, -0.4073,  ..., -1.1431,  0.8375, -0.7021],\n",
       "         [ 2.0715,  0.1863, -0.3121,  ..., -0.2987,  0.1873, -0.1728],\n",
       "         [-2.9918,  0.0260,  0.3092,  ...,  1.1012, -0.6305, -0.4077],\n",
       "         ...,\n",
       "         [-2.1182,  0.0889, -0.0448,  ...,  0.7263, -0.0991, -0.2664],\n",
       "         [ 1.1953,  0.7217, -0.3056,  ..., -0.7076,  0.1960,  0.4336],\n",
       "         [-1.5974,  0.3884,  0.0932,  ..., -0.1846, -0.2255, -1.0601]]],\n",
       "       device='cuda:0', grad_fn=<MulBackward0>), attentions=None)"
      ]
     },
     "execution_count": 6,
     "metadata": {},
     "output_type": "execute_result"
    }
   ],
   "source": [
    "from transformers import AutoConfig\n",
    "\n",
    "tag2index = {\n",
    "    \"O\": 0, \"B-PER\": 1, \"I-PER\": 2, \"B-ORG\": 3, \"I-ORG\": 4, \"B-LOC\": 5, \"I-LOC\": 6\n",
    "}\n",
    "index2tag = {tag2index[tag]:tag for tag in tag2index}\n",
    "mamba_config = AutoConfig.from_pretrained(model_ckpt, num_labels=len(tag2index), id2label=index2tag, label2id=tag2index)\n",
    "mamba_model = (MambaForTokenClassification\n",
    "               .from_pretrained(model_ckpt, config=mamba_config)\n",
    "               .to(\"cuda\"))\n",
    "from transformers import AutoTokenizer\n",
    "tokenizer = AutoTokenizer.from_pretrained(model_ckpt)\n",
    "tokenizer_output = tokenizer(\"Hello, this is an example text for you\", return_tensors=\"pt\").to(\"cuda\")\n",
    "mamba_model.forward(**tokenizer_output)"
   ]
  },
  {
   "cell_type": "code",
   "execution_count": 5,
   "metadata": {},
   "outputs": [],
   "source": [
    "def tokenize_and_align_labels(examples):\n",
    "    tokenized_inputs = tokenizer(examples[\"tokens\"], truncation=True, is_split_into_words=True)\n",
    "\n",
    "    labels = []\n",
    "    for idx, label in enumerate(examples[\"ner_tags\"]):\n",
    "        word_ids = tokenized_inputs.word_ids(batch_index=idx)\n",
    "        previous_word_idx = None\n",
    "        label_ids = []\n",
    "        for word_idx in word_ids:\n",
    "            if word_idx is None or word_idx == previous_word_idx:\n",
    "                label_ids.append(-100)\n",
    "            else:\n",
    "                label_ids.append(label[word_idx])\n",
    "            previous_word_idx = word_idx\n",
    "        labels.append(label_ids)\n",
    "    tokenized_inputs[\"labels\"] = labels\n",
    "    return tokenized_inputs\n",
    "\n",
    "def encode_panx_dataset(corpus):\n",
    "    return corpus.map(tokenize_and_align_labels, batched=True, remove_columns=['langs', 'ner_tags', 'tokens'])\n",
    "\n",
    "dataset_decoded = dataset.map(tokenize_and_align_labels, batched=True, remove_columns=['langs', 'ner_tags', 'tokens'])"
   ]
  },
  {
   "cell_type": "code",
   "execution_count": 6,
   "metadata": {},
   "outputs": [],
   "source": [
    "import numpy as np\n",
    "def align_predictions(predictions, label_ids):\n",
    "    preds = np.argmax(predictions, axis=2)\n",
    "    batch_size, seq_len = preds.shape\n",
    "    labels_list, preds_list = [], []\n",
    "\n",
    "    for batch_idx in range(batch_size):\n",
    "        example_labels, example_preds = [], []\n",
    "        for seq_idx in range(seq_len):\n",
    "            if label_ids[batch_idx, seq_idx] != -100:\n",
    "                example_labels.append(index2tag[label_ids[batch_idx][seq_idx]])\n",
    "                example_preds.append(index2tag[preds[batch_idx][seq_idx]])\n",
    "\n",
    "        labels_list.append(example_labels)\n",
    "        preds_list.append(example_preds)\n",
    "    return preds_list, labels_list"
   ]
  },
  {
   "cell_type": "code",
   "execution_count": 7,
   "metadata": {},
   "outputs": [
    {
     "name": "stderr",
     "output_type": "stream",
     "text": [
      "/root/anaconda3/envs/mamba/lib/python3.12/site-packages/transformers-4.46.0-py3.12.egg/transformers/training_args.py:1559: FutureWarning: `evaluation_strategy` is deprecated and will be removed in version 4.46 of 🤗 Transformers. Use `eval_strategy` instead\n",
      "  warnings.warn(\n"
     ]
    },
    {
     "data": {
      "text/html": [
       "\n",
       "    <div>\n",
       "      \n",
       "      <progress value='1250' max='1250' style='width:300px; height:20px; vertical-align: middle;'></progress>\n",
       "      [1250/1250 1:13:18, Epoch 1/1]\n",
       "    </div>\n",
       "    <table border=\"1\" class=\"dataframe\">\n",
       "  <thead>\n",
       " <tr style=\"text-align: left;\">\n",
       "      <th>Step</th>\n",
       "      <th>Training Loss</th>\n",
       "      <th>Validation Loss</th>\n",
       "    </tr>\n",
       "  </thead>\n",
       "  <tbody>\n",
       "    <tr>\n",
       "      <td>100</td>\n",
       "      <td>4.114300</td>\n",
       "      <td>0.439956</td>\n",
       "    </tr>\n",
       "    <tr>\n",
       "      <td>200</td>\n",
       "      <td>2.126900</td>\n",
       "      <td>0.379877</td>\n",
       "    </tr>\n",
       "    <tr>\n",
       "      <td>300</td>\n",
       "      <td>1.897800</td>\n",
       "      <td>0.299387</td>\n",
       "    </tr>\n",
       "    <tr>\n",
       "      <td>400</td>\n",
       "      <td>1.853700</td>\n",
       "      <td>0.306148</td>\n",
       "    </tr>\n",
       "    <tr>\n",
       "      <td>500</td>\n",
       "      <td>1.648500</td>\n",
       "      <td>0.309016</td>\n",
       "    </tr>\n",
       "    <tr>\n",
       "      <td>600</td>\n",
       "      <td>1.756900</td>\n",
       "      <td>0.265519</td>\n",
       "    </tr>\n",
       "    <tr>\n",
       "      <td>700</td>\n",
       "      <td>1.636900</td>\n",
       "      <td>0.270684</td>\n",
       "    </tr>\n",
       "    <tr>\n",
       "      <td>800</td>\n",
       "      <td>1.606900</td>\n",
       "      <td>0.266185</td>\n",
       "    </tr>\n",
       "    <tr>\n",
       "      <td>900</td>\n",
       "      <td>1.586500</td>\n",
       "      <td>0.254824</td>\n",
       "    </tr>\n",
       "    <tr>\n",
       "      <td>1000</td>\n",
       "      <td>1.682300</td>\n",
       "      <td>0.253208</td>\n",
       "    </tr>\n",
       "    <tr>\n",
       "      <td>1100</td>\n",
       "      <td>1.482300</td>\n",
       "      <td>0.254378</td>\n",
       "    </tr>\n",
       "    <tr>\n",
       "      <td>1200</td>\n",
       "      <td>1.639400</td>\n",
       "      <td>0.250330</td>\n",
       "    </tr>\n",
       "  </tbody>\n",
       "</table><p>"
      ],
      "text/plain": [
       "<IPython.core.display.HTML object>"
      ]
     },
     "metadata": {},
     "output_type": "display_data"
    },
    {
     "data": {
      "text/plain": [
       "TrainOutput(global_step=1250, training_loss=1.9025521545410156, metrics={'train_runtime': 4400.3376, 'train_samples_per_second': 4.545, 'train_steps_per_second': 0.284, 'total_flos': 1804900566516192.0, 'train_loss': 1.9025521545410156, 'epoch': 1.0})"
      ]
     },
     "execution_count": 7,
     "metadata": {},
     "output_type": "execute_result"
    }
   ],
   "source": [
    "from transformers import Trainer, TrainingArguments\n",
    "from transformers import DataCollatorForTokenClassification\n",
    "\n",
    "training_args = TrainingArguments(\n",
    "    output_dir=\"./result\",\n",
    "    num_train_epochs=1,\n",
    "    per_device_train_batch_size=4,\n",
    "    per_device_eval_batch_size=32,\n",
    "    save_steps=100,\n",
    "    logging_steps=100,\n",
    "    push_to_hub=False,\n",
    "    evaluation_strategy=\"steps\",\n",
    "    eval_steps=100,\n",
    "    weight_decay=0.01,\n",
    "    gradient_accumulation_steps=4,\n",
    ")\n",
    "\n",
    "data_collator= DataCollatorForTokenClassification(tokenizer)  \n",
    "\n",
    "trainer = Trainer(\n",
    "    model=mamba_model,\n",
    "    data_collator=data_collator,\n",
    "    args=training_args,\n",
    "    train_dataset=dataset_decoded['train'],\n",
    "    eval_dataset=dataset_decoded['test'].shuffle().select(range(64)),\n",
    ")\n",
    "\n",
    "\n",
    "trainer.train()\n"
   ]
  },
  {
   "cell_type": "code",
   "execution_count": 8,
   "metadata": {},
   "outputs": [],
   "source": [
    "model = MambaForTokenClassification.from_pretrained(\"./result/checkpoint-1250\")"
   ]
  },
  {
   "cell_type": "code",
   "execution_count": 12,
   "metadata": {},
   "outputs": [
    {
     "data": {
      "text/html": [
       "<div>\n",
       "<style scoped>\n",
       "    .dataframe tbody tr th:only-of-type {\n",
       "        vertical-align: middle;\n",
       "    }\n",
       "\n",
       "    .dataframe tbody tr th {\n",
       "        vertical-align: top;\n",
       "    }\n",
       "\n",
       "    .dataframe thead th {\n",
       "        text-align: right;\n",
       "    }\n",
       "</style>\n",
       "<table border=\"1\" class=\"dataframe\">\n",
       "  <thead>\n",
       "    <tr style=\"text-align: right;\">\n",
       "      <th></th>\n",
       "      <th>0</th>\n",
       "      <th>1</th>\n",
       "      <th>2</th>\n",
       "      <th>3</th>\n",
       "    </tr>\n",
       "  </thead>\n",
       "  <tbody>\n",
       "    <tr>\n",
       "      <th>Tokens</th>\n",
       "      <td>Panamá</td>\n",
       "      <td>(</td>\n",
       "      <td>3</td>\n",
       "      <td>)</td>\n",
       "    </tr>\n",
       "    <tr>\n",
       "      <th>result</th>\n",
       "      <td>I-LOC</td>\n",
       "      <td>I-LOC</td>\n",
       "      <td>B-LOC</td>\n",
       "      <td>I-PER</td>\n",
       "    </tr>\n",
       "    <tr>\n",
       "      <th>label</th>\n",
       "      <td>B-LOC</td>\n",
       "      <td>O</td>\n",
       "      <td>O</td>\n",
       "      <td>O</td>\n",
       "    </tr>\n",
       "  </tbody>\n",
       "</table>\n",
       "</div>"
      ],
      "text/plain": [
       "             0      1      2      3\n",
       "Tokens  Panamá      (      3      )\n",
       "result   I-LOC  I-LOC  B-LOC  I-PER\n",
       "label    B-LOC      O      O      O"
      ]
     },
     "execution_count": 12,
     "metadata": {},
     "output_type": "execute_result"
    }
   ],
   "source": [
    "import pandas as pd\n",
    "\n",
    "data_id = 9\n",
    "\n",
    "tag2index = {\n",
    "    \"O\": 0, \"B-PER\": 1, \"I-PER\": 2, \"B-ORG\": 3, \"I-ORG\": 4, \"B-LOC\": 5, \"I-LOC\": 6\n",
    "}\n",
    "\n",
    "index2tag = {tag2index[tag]:tag for tag in tag2index}\n",
    "tokens = dataset['validation'][data_id]['tokens']\n",
    "labels = dataset['validation'][data_id]['ner_tags']\n",
    "token_ids = torch.IntTensor(tokenizer.convert_tokens_to_ids(tokens)).to(\"cuda\").unsqueeze(0)\n",
    "output = mamba_model.forward(input_ids=token_ids)\n",
    "output = output['logits'].squeeze().cpu().detach().numpy().argmax(axis=-1).tolist()\n",
    "\n",
    "# tokenizer.decode()\n",
    "pd.DataFrame([tokens, [index2tag[e] for e in output], [index2tag[e] for e in labels]], index=[\"Tokens\", \"result\", \"label\"])"
   ]
  }
 ],
 "metadata": {
  "kernelspec": {
   "display_name": "mamba",
   "language": "python",
   "name": "python3"
  },
  "language_info": {
   "codemirror_mode": {
    "name": "ipython",
    "version": 3
   },
   "file_extension": ".py",
   "mimetype": "text/x-python",
   "name": "python",
   "nbconvert_exporter": "python",
   "pygments_lexer": "ipython3",
   "version": "3.12.7"
  }
 },
 "nbformat": 4,
 "nbformat_minor": 2
}
